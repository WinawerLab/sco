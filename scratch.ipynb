{
 "cells": [
  {
   "cell_type": "code",
   "execution_count": 2,
   "metadata": {
    "collapsed": false
   },
   "outputs": [],
   "source": [
    "import numpy                 as     np\n",
    "import numpy.linalg          as     npl                 \n",
    "import scipy                 as     sp\n",
    "from   scipy                 import ndimage    as ndi\n",
    "\n",
    "from   skimage               import data\n",
    "from   skimage.util          import img_as_float\n",
    "from   skimage.filters       import gabor_kernel\n",
    "from   sklearn.preprocessing import scale\n",
    "\n",
    "from   numbers               import Number   \n",
    "\n",
    "import os, sys, math, itertools, collections\n",
    "\n",
    "%matplotlib qt\n",
    "%gui qt\n",
    "import matplotlib\n",
    "import matplotlib.pyplot     as     plt\n",
    "\n",
    "for p in ['/Users/n/Code/sco', '/Users/n/Code/neuropythy']:\n",
    "    if p not in sys.path: sys.path.insert(0, p)\n",
    "        \n",
    "import neuropythy            as     neuro\n",
    "import neuropythy.freesurfer as     nfs\n",
    "\n",
    "for p in ['/Volumes/server/Freesurfer_subjects']:\n",
    "    if p not in nfs.subject_paths():\n",
    "        nfs.add_subject_path(p)\n",
    "\n",
    "import sco\n",
    "\n",
    "def reload_sco():\n",
    "    reload(sys.modules['sco.core'])\n",
    "    reload(sys.modules['sco.anatomy.core'])\n",
    "    reload(sys.modules['sco.stimulus.core'])\n",
    "    reload(sys.modules['sco.pRF.core'])\n",
    "    reload(sys.modules['sco.normalization.core'])\n",
    "    reload(sys.modules['sco.anatomy'])\n",
    "    reload(sys.modules['sco.stimulus'])\n",
    "    reload(sys.modules['sco.pRF'])\n",
    "    reload(sys.modules['sco.normalization'])\n",
    "    reload(sys.modules['sco'])\n",
    "    import sco"
   ]
  },
  {
   "cell_type": "code",
   "execution_count": 3,
   "metadata": {
    "collapsed": false
   },
   "outputs": [],
   "source": [
    "results = sco.calc_sco(\n",
    "    subject='test-sub',\n",
    "    max_eccentricity=10,\n",
    "    stimulus_image_filenames=['/Library/Desktop Pictures/Zebras.jpg'],\n",
    "    stimulus_pixels_per_degree=10)"
   ]
  },
  {
   "cell_type": "code",
   "execution_count": null,
   "metadata": {
    "collapsed": false
   },
   "outputs": [],
   "source": [
    "results.keys()"
   ]
  },
  {
   "cell_type": "code",
   "execution_count": 5,
   "metadata": {
    "collapsed": false
   },
   "outputs": [
    {
     "data": {
      "text/plain": [
       "<matplotlib.image.AxesImage at 0x123dc4dd0>"
      ]
     },
     "execution_count": 5,
     "metadata": {},
     "output_type": "execute_result"
    }
   ],
   "source": [
    "plt.imshow(results['filtered_images'][0])"
   ]
  },
  {
   "cell_type": "code",
   "execution_count": 85,
   "metadata": {
    "collapsed": false
   },
   "outputs": [],
   "source": [
    "@sco.calculates('pRF_sizes')\n",
    "def calc_simple_pRF_sizes(pRF_v123_labels):\n",
    "    return {'pRF_sizes': [0.5*l for l in pRF_v123_labels]}\n",
    "\n",
    "new_anat = sco.calc_chain(\n",
    "    sco.calc_anatomy.calc_layers,\n",
    "    calc_pRF_sizes=calc_simple_pRF_sizes)\n",
    "new_sco  = sco.calc_chain(\n",
    "    sco.calc_sco.calc_layers,\n",
    "    calc_anatomy=new_anat)\n",
    "\n",
    "simple_results = new_sco(\n",
    "    subject='test-sub',\n",
    "    max_eccentricity=10,\n",
    "    stimulus_image_filenames=['/Library/Desktop Pictures/Zebras.jpg'],\n",
    "    stimulus_pixels_per_degree=10)"
   ]
  },
  {
   "cell_type": "code",
   "execution_count": 99,
   "metadata": {
    "collapsed": false
   },
   "outputs": [],
   "source": [
    "reload_sco()\n",
    "import sco.anatomy\n",
    "exval = sco.export_predicted_responses(\n",
    "    results,\n",
    "    export_path='/Users/n/Desktop')"
   ]
  },
  {
   "cell_type": "code",
   "execution_count": 19,
   "metadata": {
    "collapsed": false
   },
   "outputs": [],
   "source": [
    "import nibabel.freesurfer.mghformat as fsmgh\n",
    "\n",
    "pred = fsmgh.load('/Users/n/Desktop/prediction_0000.mgz')\n",
    "img  = pred.dataobj.get_unscaled()"
   ]
  },
  {
   "cell_type": "code",
   "execution_count": 33,
   "metadata": {
    "collapsed": false
   },
   "outputs": [],
   "source": [
    "import nibabel.viewers\n",
    "\n",
    "f = nibabel.viewers.OrthoSlicer3D(img, affine=pred.affine)\n",
    "f.cmap = plt.get_cmap('gray')\n",
    "f.clim = (0,0.3)s\n",
    "f.show()"
   ]
  },
  {
   "cell_type": "code",
   "execution_count": null,
   "metadata": {
    "collapsed": true
   },
   "outputs": [],
   "source": []
  }
 ],
 "metadata": {
  "kernelspec": {
   "display_name": "Python 2",
   "language": "python",
   "name": "python2"
  },
  "language_info": {
   "codemirror_mode": {
    "name": "ipython",
    "version": 2
   },
   "file_extension": ".py",
   "mimetype": "text/x-python",
   "name": "python",
   "nbconvert_exporter": "python",
   "pygments_lexer": "ipython2",
   "version": "2.7.12"
  }
 },
 "nbformat": 4,
 "nbformat_minor": 1
}
