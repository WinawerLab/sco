{
 "cells": [
  {
   "cell_type": "code",
   "execution_count": 1,
   "metadata": {
    "collapsed": false
   },
   "outputs": [],
   "source": [
    "import numpy                 as     np\n",
    "import numpy.linalg          as     npl                 \n",
    "import scipy                 as     sp\n",
    "from   scipy                 import ndimage    as ndi\n",
    "\n",
    "from   skimage               import data\n",
    "from   skimage.util          import img_as_float\n",
    "from   skimage.filters       import gabor_kernel\n",
    "from   sklearn.preprocessing import scale\n",
    "\n",
    "from   numbers               import Number   \n",
    "\n",
    "import os, sys, math, itertools, collections\n",
    "\n",
    "%matplotlib inline\n",
    "%gui qt\n",
    "import matplotlib\n",
    "import matplotlib.pyplot     as     plt\n",
    "\n",
    "for p in ['/Users/n/Code/sco', '/Users/n/Code/neuropythy']:\n",
    "    if p not in sys.path: sys.path.insert(0, p)"
   ]
  },
  {
   "cell_type": "code",
   "execution_count": 392,
   "metadata": {
    "collapsed": false
   },
   "outputs": [],
   "source": [
    "from sco import (calculates, iscalc, calc_chain)\n",
    "import sco.stimulus as stim\n",
    "import sco.pRF as prf\n",
    "import sco.anatomy as anat\n",
    "\n",
    "reload(sys.modules['sco.core'])\n",
    "reload(sys.modules['sco'])\n",
    "reload(sys.modules['sco.stimulus.core'])\n",
    "stim = reload(stim)\n",
    "reload(sys.modules['sco.pRF.core'])\n",
    "prf = reload(prf)\n",
    "reload(sys.modules['sco.anatomy.core'])\n",
    "anat = reload(anat)"
   ]
  },
  {
   "cell_type": "code",
   "execution_count": 334,
   "metadata": {
    "collapsed": false
   },
   "outputs": [],
   "source": [
    "img_process = calc_chain(stim.import_images(),\n",
    "                         stim.normalize_images(),\n",
    "                         stim.generate_gabor_filters(),\n",
    "                         stim.filter_images())\n",
    "pre_process = calc_chain(anat.import_freesurfer_pRF_chain, img_process)"
   ]
  },
  {
   "cell_type": "code",
   "execution_count": 336,
   "metadata": {
    "collapsed": false
   },
   "outputs": [],
   "source": [
    "rval = img_process(\n",
    "    stimulus_image_filenames=['/Users/n/Desktop/fluorescence6_preview.jpg'],\n",
    "    stimulus_pixels_per_degree=24)"
   ]
  },
  {
   "cell_type": "code",
   "execution_count": 395,
   "metadata": {
    "collapsed": false
   },
   "outputs": [],
   "source": [
    "rrval = prf.extract_pRFs_from_filtered_images(rval,\n",
    "                                              pRF_centers=[[2.5,0.0], [-3.5,3.5]],\n",
    "                                              pRF_sizes=[0.6, 0.12])"
   ]
  },
  {
   "cell_type": "code",
   "execution_count": 396,
   "metadata": {
    "collapsed": false
   },
   "outputs": [
    {
     "data": {
      "text/plain": [
       "(array([[ 0.70728689,  0.17889863]]),\n",
       " [(150.0, 187.5), (97.5, 97.5)],\n",
       " [9.0, 1.7999999999999998])"
      ]
     },
     "execution_count": 396,
     "metadata": {},
     "output_type": "execute_result"
    }
   ],
   "source": [
    "(rrval['pRF_energies'],rrval['pRF_pixel_centers'],rrval['pRF_pixel_sigmas'])"
   ]
  },
  {
   "cell_type": "code",
   "execution_count": null,
   "metadata": {
    "collapsed": true
   },
   "outputs": [],
   "source": []
  }
 ],
 "metadata": {
  "kernelspec": {
   "display_name": "Python 2",
   "language": "python",
   "name": "python2"
  },
  "language_info": {
   "codemirror_mode": {
    "name": "ipython",
    "version": 2
   },
   "file_extension": ".py",
   "mimetype": "text/x-python",
   "name": "python",
   "nbconvert_exporter": "python",
   "pygments_lexer": "ipython2",
   "version": "2.7.12"
  }
 },
 "nbformat": 4,
 "nbformat_minor": 1
}
